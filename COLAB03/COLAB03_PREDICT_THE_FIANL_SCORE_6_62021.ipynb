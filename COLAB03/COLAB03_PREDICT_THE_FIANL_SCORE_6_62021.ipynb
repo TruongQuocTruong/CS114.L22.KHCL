{
  "nbformat": 4,
  "nbformat_minor": 0,
  "metadata": {
    "colab": {
      "name": "COLAB03_PREDICT_THE_FIANL_SCORE_6/62021.ipynb",
      "provenance": [],
      "collapsed_sections": [],
      "toc_visible": true,
      "authorship_tag": "ABX9TyOwRP+4vO/vwNlTezF96VlI",
      "include_colab_link": true
    },
    "kernelspec": {
      "name": "python3",
      "display_name": "Python 3"
    },
    "language_info": {
      "name": "python"
    }
  },
  "cells": [
    {
      "cell_type": "markdown",
      "metadata": {
        "id": "view-in-github",
        "colab_type": "text"
      },
      "source": [
        "<a href=\"https://colab.research.google.com/github/TruongQuocTruong/CS114.L22.KHCL/blob/main/COLAB03_PREDICT_THE_FIANL_SCORE_6_62021.ipynb\" target=\"_parent\"><img src=\"https://colab.research.google.com/assets/colab-badge.svg\" alt=\"Open In Colab\"/></a>"
      ]
    },
    {
      "cell_type": "markdown",
      "metadata": {
        "id": "_sjOciHiDIuM"
      },
      "source": [
        "# BÁO CÁO BÀI COLAB_03 : DỰ ĐOÁN ĐIỂM CUỐI KỲ QUA QUÁ TRÌNH NỘP WECODE\n",
        "\n",
        "NGÀY: 6/06/2021\n",
        "THÀNH VIÊN NHÓM:\n",
        "\n",
        "\n",
        "*   TRƯƠNG QUỐC TRƯỜNG\n",
        "*   NGUYÊN QUANG TUẤN\n",
        "*   ÂU THIÊN PHƯỚC\n",
        "\n"
      ]
    },
    {
      "cell_type": "markdown",
      "metadata": {
        "id": "0WsUdmSUzYeL"
      },
      "source": [
        "**Import các thư viện cần thiết, và dữ liệu vào notebook, qua Github.**"
      ]
    },
    {
      "cell_type": "code",
      "metadata": {
        "id": "W5qbLOQwqVt6"
      },
      "source": [
        "import pandas as pd\n",
        "import matplotlib.pyplot as plt\n",
        "from matplotlib import style\n",
        "import numpy as np\n",
        "%matplotlib inline\n",
        "\n",
        "import sklearn\n",
        "import gdown\n",
        "import math\n",
        "\n",
        "from collections import Counter\n",
        "from sklearn import preprocessing\n",
        "from sklearn import utils\n",
        "\n",
        "from sklearn.model_selection import train_test_split\n",
        "from sklearn.linear_model import LinearRegression\n",
        "from sklearn import svm"
      ],
      "execution_count": null,
      "outputs": []
    },
    {
      "cell_type": "markdown",
      "metadata": {
        "id": "0gD2XMaP9DNu"
      },
      "source": [
        "# I: XỬ LÝ DỮ LIỆU"
      ]
    },
    {
      "cell_type": "code",
      "metadata": {
        "id": "r_g0ASG3rDFl"
      },
      "source": [
        "# lấy bộ dataset từ link github dưới dạng raw\n",
        "score_train = pd.read_csv('https://raw.githubusercontent.com/TruongQuocTruong/CS114.L22.KHCL/main/COLAB03/score_training.csv')\n",
        "wecode = pd.read_csv('https://raw.githubusercontent.com/TruongQuocTruong/CS114.L22.KHCL/main/COLAB03/wecode.csv')"
      ],
      "execution_count": null,
      "outputs": []
    },
    {
      "cell_type": "markdown",
      "metadata": {
        "id": "PfuI1sjF0CZ8"
      },
      "source": [
        "**Tổng quát dữ liệu, thông tin chi tiết về các tập dataset**"
      ]
    },
    {
      "cell_type": "code",
      "metadata": {
        "colab": {
          "base_uri": "https://localhost:8080/",
          "height": 204
        },
        "id": "hVl66ahlwwtb",
        "outputId": "55efa44b-c0e6-470a-e8ba-b827b657a9f4"
      },
      "source": [
        "# Hiện thị các bản ghi trong tập score_train\n",
        "score_train.head(5)"
      ],
      "execution_count": null,
      "outputs": [
        {
          "output_type": "execute_result",
          "data": {
            "text/html": [
              "<div>\n",
              "<style scoped>\n",
              "    .dataframe tbody tr th:only-of-type {\n",
              "        vertical-align: middle;\n",
              "    }\n",
              "\n",
              "    .dataframe tbody tr th {\n",
              "        vertical-align: top;\n",
              "    }\n",
              "\n",
              "    .dataframe thead th {\n",
              "        text-align: right;\n",
              "    }\n",
              "</style>\n",
              "<table border=\"1\" class=\"dataframe\">\n",
              "  <thead>\n",
              "    <tr style=\"text-align: right;\">\n",
              "      <th></th>\n",
              "      <th>id</th>\n",
              "      <th>QT</th>\n",
              "      <th>GK</th>\n",
              "      <th>TH</th>\n",
              "      <th>CK</th>\n",
              "      <th>TBM</th>\n",
              "      <th>TBTL</th>\n",
              "    </tr>\n",
              "  </thead>\n",
              "  <tbody>\n",
              "    <tr>\n",
              "      <th>0</th>\n",
              "      <td>22</td>\n",
              "      <td>10</td>\n",
              "      <td>9</td>\n",
              "      <td>8.5</td>\n",
              "      <td>8.5</td>\n",
              "      <td>8.8</td>\n",
              "      <td>8.52</td>\n",
              "    </tr>\n",
              "    <tr>\n",
              "      <th>1</th>\n",
              "      <td>24</td>\n",
              "      <td>10</td>\n",
              "      <td>8</td>\n",
              "      <td>10</td>\n",
              "      <td>9.5</td>\n",
              "      <td>9.4</td>\n",
              "      <td>8.41</td>\n",
              "    </tr>\n",
              "    <tr>\n",
              "      <th>2</th>\n",
              "      <td>27</td>\n",
              "      <td>10</td>\n",
              "      <td>10</td>\n",
              "      <td>10</td>\n",
              "      <td>10</td>\n",
              "      <td>10</td>\n",
              "      <td>8.67</td>\n",
              "    </tr>\n",
              "    <tr>\n",
              "      <th>3</th>\n",
              "      <td>28</td>\n",
              "      <td>10</td>\n",
              "      <td>9.5</td>\n",
              "      <td>7.5</td>\n",
              "      <td>9.5</td>\n",
              "      <td>9.2</td>\n",
              "      <td>7.39</td>\n",
              "    </tr>\n",
              "    <tr>\n",
              "      <th>4</th>\n",
              "      <td>29</td>\n",
              "      <td>10</td>\n",
              "      <td>9.5</td>\n",
              "      <td>5</td>\n",
              "      <td>8.5</td>\n",
              "      <td>8.2</td>\n",
              "      <td>8.05</td>\n",
              "    </tr>\n",
              "  </tbody>\n",
              "</table>\n",
              "</div>"
            ],
            "text/plain": [
              "   id  QT   GK   TH   CK  TBM  TBTL\n",
              "0  22  10    9  8.5  8.5  8.8  8.52\n",
              "1  24  10    8   10  9.5  9.4  8.41\n",
              "2  27  10   10   10   10   10  8.67\n",
              "3  28  10  9.5  7.5  9.5  9.2  7.39\n",
              "4  29  10  9.5    5  8.5  8.2  8.05"
            ]
          },
          "metadata": {
            "tags": []
          },
          "execution_count": 106
        }
      ]
    },
    {
      "cell_type": "code",
      "metadata": {
        "colab": {
          "base_uri": "https://localhost:8080/"
        },
        "id": "seiGacIR0U6v",
        "outputId": "e3ed3dc9-ee1f-4d3d-e049-12bd09e7d421"
      },
      "source": [
        "# Thêm thông tin, kiểu dữ liệu, trạng thái của dữ liệu\n",
        "score_train.info()"
      ],
      "execution_count": null,
      "outputs": [
        {
          "output_type": "stream",
          "text": [
            "<class 'pandas.core.frame.DataFrame'>\n",
            "RangeIndex: 975 entries, 0 to 974\n",
            "Data columns (total 7 columns):\n",
            " #   Column  Non-Null Count  Dtype \n",
            "---  ------  --------------  ----- \n",
            " 0   id      975 non-null    int64 \n",
            " 1   QT      973 non-null    object\n",
            " 2   GK      974 non-null    object\n",
            " 3   TH      974 non-null    object\n",
            " 4   CK      974 non-null    object\n",
            " 5   TBM     974 non-null    object\n",
            " 6   TBTL    974 non-null    object\n",
            "dtypes: int64(1), object(6)\n",
            "memory usage: 53.4+ KB\n"
          ],
          "name": "stdout"
        }
      ]
    },
    {
      "cell_type": "code",
      "metadata": {
        "colab": {
          "base_uri": "https://localhost:8080/",
          "height": 309
        },
        "id": "55yC1lRkzMlv",
        "outputId": "a7630882-7ec4-4411-d2ee-5a468cab4677"
      },
      "source": [
        "# Hiển thị các bản ghi của tập wecode\n",
        "wecode.head(5)"
      ],
      "execution_count": null,
      "outputs": [
        {
          "output_type": "execute_result",
          "data": {
            "text/html": [
              "<div>\n",
              "<style scoped>\n",
              "    .dataframe tbody tr th:only-of-type {\n",
              "        vertical-align: middle;\n",
              "    }\n",
              "\n",
              "    .dataframe tbody tr th {\n",
              "        vertical-align: top;\n",
              "    }\n",
              "\n",
              "    .dataframe thead th {\n",
              "        text-align: right;\n",
              "    }\n",
              "</style>\n",
              "<table border=\"1\" class=\"dataframe\">\n",
              "  <thead>\n",
              "    <tr style=\"text-align: right;\">\n",
              "      <th></th>\n",
              "      <th>id</th>\n",
              "      <th>assignment_id</th>\n",
              "      <th>problem_id</th>\n",
              "      <th>user_id</th>\n",
              "      <th>is_final</th>\n",
              "      <th>status</th>\n",
              "      <th>pre_score</th>\n",
              "      <th>coefficient</th>\n",
              "      <th>file_name</th>\n",
              "      <th>language_id</th>\n",
              "      <th>created_at</th>\n",
              "      <th>updated_at</th>\n",
              "    </tr>\n",
              "  </thead>\n",
              "  <tbody>\n",
              "    <tr>\n",
              "      <th>0</th>\n",
              "      <td>4</td>\n",
              "      <td>0</td>\n",
              "      <td>3</td>\n",
              "      <td>4</td>\n",
              "      <td>1</td>\n",
              "      <td>SCORE</td>\n",
              "      <td>10000</td>\n",
              "      <td>100</td>\n",
              "      <td>solution-0</td>\n",
              "      <td>2</td>\n",
              "      <td>2020-10-30 10:58:11</td>\n",
              "      <td>2020-10-30 10:58:19</td>\n",
              "    </tr>\n",
              "    <tr>\n",
              "      <th>1</th>\n",
              "      <td>5</td>\n",
              "      <td>0</td>\n",
              "      <td>4</td>\n",
              "      <td>4</td>\n",
              "      <td>1</td>\n",
              "      <td>SCORE</td>\n",
              "      <td>10000</td>\n",
              "      <td>100</td>\n",
              "      <td>solution-1</td>\n",
              "      <td>2</td>\n",
              "      <td>2020-10-30 11:07:09</td>\n",
              "      <td>2020-10-30 11:07:17</td>\n",
              "    </tr>\n",
              "    <tr>\n",
              "      <th>2</th>\n",
              "      <td>6</td>\n",
              "      <td>0</td>\n",
              "      <td>5</td>\n",
              "      <td>4</td>\n",
              "      <td>0</td>\n",
              "      <td>Compilation Error</td>\n",
              "      <td>0</td>\n",
              "      <td>100</td>\n",
              "      <td>solution-2</td>\n",
              "      <td>2</td>\n",
              "      <td>2020-10-30 11:08:01</td>\n",
              "      <td>2020-10-30 11:23:36</td>\n",
              "    </tr>\n",
              "    <tr>\n",
              "      <th>3</th>\n",
              "      <td>7</td>\n",
              "      <td>0</td>\n",
              "      <td>5</td>\n",
              "      <td>4</td>\n",
              "      <td>0</td>\n",
              "      <td>Compilation Error</td>\n",
              "      <td>0</td>\n",
              "      <td>100</td>\n",
              "      <td>solution-3</td>\n",
              "      <td>2</td>\n",
              "      <td>2020-10-30 11:11:41</td>\n",
              "      <td>2020-10-30 11:11:42</td>\n",
              "    </tr>\n",
              "    <tr>\n",
              "      <th>4</th>\n",
              "      <td>8</td>\n",
              "      <td>0</td>\n",
              "      <td>5</td>\n",
              "      <td>4</td>\n",
              "      <td>0</td>\n",
              "      <td>Compilation Error</td>\n",
              "      <td>0</td>\n",
              "      <td>100</td>\n",
              "      <td>solution-4</td>\n",
              "      <td>2</td>\n",
              "      <td>2020-10-30 11:15:06</td>\n",
              "      <td>2020-10-30 11:15:07</td>\n",
              "    </tr>\n",
              "  </tbody>\n",
              "</table>\n",
              "</div>"
            ],
            "text/plain": [
              "   id  assignment_id  ...           created_at           updated_at\n",
              "0   4              0  ...  2020-10-30 10:58:11  2020-10-30 10:58:19\n",
              "1   5              0  ...  2020-10-30 11:07:09  2020-10-30 11:07:17\n",
              "2   6              0  ...  2020-10-30 11:08:01  2020-10-30 11:23:36\n",
              "3   7              0  ...  2020-10-30 11:11:41  2020-10-30 11:11:42\n",
              "4   8              0  ...  2020-10-30 11:15:06  2020-10-30 11:15:07\n",
              "\n",
              "[5 rows x 12 columns]"
            ]
          },
          "metadata": {
            "tags": []
          },
          "execution_count": 108
        }
      ]
    },
    {
      "cell_type": "code",
      "metadata": {
        "colab": {
          "base_uri": "https://localhost:8080/"
        },
        "id": "erdKhBBLGU_m",
        "outputId": "44a2cb68-95b3-46c4-ee01-4849aa8c6fe8"
      },
      "source": [
        "# Thông tin, kiểu dữ liệu của các bản ghi\n",
        "wecode.info()"
      ],
      "execution_count": null,
      "outputs": [
        {
          "output_type": "stream",
          "text": [
            "<class 'pandas.core.frame.DataFrame'>\n",
            "RangeIndex: 264606 entries, 0 to 264605\n",
            "Data columns (total 12 columns):\n",
            " #   Column         Non-Null Count   Dtype \n",
            "---  ------         --------------   ----- \n",
            " 0   id             264606 non-null  int64 \n",
            " 1   assignment_id  264606 non-null  int64 \n",
            " 2   problem_id     264606 non-null  int64 \n",
            " 3   user_id        264606 non-null  int64 \n",
            " 4   is_final       264606 non-null  int64 \n",
            " 5   status         264605 non-null  object\n",
            " 6   pre_score      264606 non-null  int64 \n",
            " 7   coefficient    264606 non-null  object\n",
            " 8   file_name      264606 non-null  object\n",
            " 9   language_id    264606 non-null  int64 \n",
            " 10  created_at     264606 non-null  object\n",
            " 11  updated_at     264606 non-null  object\n",
            "dtypes: int64(7), object(5)\n",
            "memory usage: 24.2+ MB\n"
          ],
          "name": "stdout"
        }
      ]
    },
    {
      "cell_type": "markdown",
      "metadata": {
        "id": "iaY9uY_85DFy"
      },
      "source": [
        "**Tổng quát một số feature quan trọng, lấy những feature cần thiết trong dataset để tạo bộ train.**"
      ]
    },
    {
      "cell_type": "code",
      "metadata": {
        "id": "p-1DCHyApVAu"
      },
      "source": [
        "def Score(data):\n",
        "  if data['pre_score'] == 10000:\n",
        "    return 1\n",
        "  return 0\n",
        "wecode['score'] = wecode.apply(Score,axis=1)\n",
        "\n",
        "def Solved(data):\n",
        "  if data['is_final'] == 1 and data['pre_score'] == 10000:\n",
        "    return 1\n",
        "  return 0\n",
        "wecode['solved'] = wecode.apply(Solved,axis=1)\n",
        "\n",
        "Group = wecode.groupby(by='user_id', sort= True)"
      ],
      "execution_count": null,
      "outputs": []
    },
    {
      "cell_type": "code",
      "metadata": {
        "id": "aN6LqvIqyNYp"
      },
      "source": [
        "# Từ những thông tin tổng quát về dataset, ta thấy một số feature dạng số thực nhưng đang trong\n",
        "# dtype<str>. Sau khi chọn ra một số feature cần sử dụng, ta định dạng lại dtype qua float\n",
        "# is_final = 1 // pre_score = 10000\n",
        "#SUBMIT = wecode[wecode['is_final'] ==1 ]\n",
        "#SUBMIT = SUBMIT[SUBMIT['pre_score'] == 10000]\n",
        "DATAWECODE = wecode.drop(labels='updated_at',axis =1)\n",
        "DATAWECODE = DATAWECODE.drop(labels='created_at',axis =1)\n",
        "DATAWECODE = DATAWECODE.drop(labels='language_id',axis =1)\n",
        "DATAWECODE = DATAWECODE.drop(labels='status',axis =1)\n",
        "DATAWECODE = DATAWECODE.drop(labels='coefficient',axis =1)\n",
        "DATAWECODE = DATAWECODE.drop(labels='pre_score',axis =1)\n",
        "DATAWECODE = DATAWECODE.drop(labels='is_final',axis =1)\n",
        "DATAWECODE = DATAWECODE.drop(labels='problem_id',axis =1)\n",
        "#DATAWECODE = DATAWECODE.drop(labels='assignment_id',axis =1)\n",
        "DATAWECODE = DATAWECODE.drop(labels='id',axis =1)\n",
        "DATAWECODE = DATAWECODE.drop(labels='file_name',axis =1)\n",
        "DATAWECODE = DATAWECODE.drop(labels='solved',axis =1)\n",
        "DATAWECODE = DATAWECODE.drop(labels='score',axis =1)\n",
        "#Số bài tập\n",
        "DATAWECODE = DATAWECODE.groupby(by=['user_id']).nunique()\n",
        "DATAWECODE = DATAWECODE.rename(columns={'assignment_id':'total_assignment'})\n",
        "#Số bài toán\n",
        "user_id = wecode[['user_id','problem_id']]\n",
        "DATAWECODE['total_problem'] = user_id.groupby(by=['user_id']).nunique()\n",
        "#Số bài nộp đúng\n",
        "user_id = wecode[['user_id','solved']]\n",
        "DATAWECODE['total_completed'] = user_id.groupby(by=['user_id']).sum()\n",
        "#Số lần submit\n",
        "user_id = wecode[['user_id','problem_id']]\n",
        "DATAWECODE['total_submit'] = user_id.groupby(by=['user_id']).count()\n",
        "#Số lần pre_score = 1000\n",
        "user_id = wecode[['user_id','score']]\n",
        "DATAWECODE['total_pre_score'] = user_id.groupby(by=['user_id']).sum()\n",
        "#Tổng điểm\n",
        "user_id = wecode[['user_id','pre_score']]\n",
        "DATAWECODE['total_score'] = Group.apply(lambda x: x[x['is_final'] == 1]['pre_score'].sum())"
      ],
      "execution_count": null,
      "outputs": []
    },
    {
      "cell_type": "code",
      "metadata": {
        "colab": {
          "base_uri": "https://localhost:8080/",
          "height": 450
        },
        "id": "w5jzAYPL2Ifr",
        "outputId": "84d2c2f0-9cd9-4b73-e081-113a9397e006"
      },
      "source": [
        "DATAWECODE"
      ],
      "execution_count": null,
      "outputs": [
        {
          "output_type": "execute_result",
          "data": {
            "text/html": [
              "<div>\n",
              "<style scoped>\n",
              "    .dataframe tbody tr th:only-of-type {\n",
              "        vertical-align: middle;\n",
              "    }\n",
              "\n",
              "    .dataframe tbody tr th {\n",
              "        vertical-align: top;\n",
              "    }\n",
              "\n",
              "    .dataframe thead th {\n",
              "        text-align: right;\n",
              "    }\n",
              "</style>\n",
              "<table border=\"1\" class=\"dataframe\">\n",
              "  <thead>\n",
              "    <tr style=\"text-align: right;\">\n",
              "      <th></th>\n",
              "      <th>total_assignment</th>\n",
              "      <th>total_problem</th>\n",
              "      <th>total_completed</th>\n",
              "      <th>total_submit</th>\n",
              "      <th>total_pre_score</th>\n",
              "      <th>total_score</th>\n",
              "    </tr>\n",
              "    <tr>\n",
              "      <th>user_id</th>\n",
              "      <th></th>\n",
              "      <th></th>\n",
              "      <th></th>\n",
              "      <th></th>\n",
              "      <th></th>\n",
              "      <th></th>\n",
              "    </tr>\n",
              "  </thead>\n",
              "  <tbody>\n",
              "    <tr>\n",
              "      <th>1</th>\n",
              "      <td>1</td>\n",
              "      <td>2</td>\n",
              "      <td>1</td>\n",
              "      <td>2</td>\n",
              "      <td>1</td>\n",
              "      <td>10000</td>\n",
              "    </tr>\n",
              "    <tr>\n",
              "      <th>4</th>\n",
              "      <td>1</td>\n",
              "      <td>41</td>\n",
              "      <td>37</td>\n",
              "      <td>54</td>\n",
              "      <td>44</td>\n",
              "      <td>370000</td>\n",
              "    </tr>\n",
              "    <tr>\n",
              "      <th>5</th>\n",
              "      <td>4</td>\n",
              "      <td>5</td>\n",
              "      <td>3</td>\n",
              "      <td>6</td>\n",
              "      <td>3</td>\n",
              "      <td>30000</td>\n",
              "    </tr>\n",
              "    <tr>\n",
              "      <th>6</th>\n",
              "      <td>4</td>\n",
              "      <td>88</td>\n",
              "      <td>85</td>\n",
              "      <td>130</td>\n",
              "      <td>89</td>\n",
              "      <td>850000</td>\n",
              "    </tr>\n",
              "    <tr>\n",
              "      <th>7</th>\n",
              "      <td>1</td>\n",
              "      <td>2</td>\n",
              "      <td>0</td>\n",
              "      <td>5</td>\n",
              "      <td>0</td>\n",
              "      <td>9209</td>\n",
              "    </tr>\n",
              "    <tr>\n",
              "      <th>...</th>\n",
              "      <td>...</td>\n",
              "      <td>...</td>\n",
              "      <td>...</td>\n",
              "      <td>...</td>\n",
              "      <td>...</td>\n",
              "      <td>...</td>\n",
              "    </tr>\n",
              "    <tr>\n",
              "      <th>1860</th>\n",
              "      <td>10</td>\n",
              "      <td>43</td>\n",
              "      <td>28</td>\n",
              "      <td>76</td>\n",
              "      <td>29</td>\n",
              "      <td>329665</td>\n",
              "    </tr>\n",
              "    <tr>\n",
              "      <th>1862</th>\n",
              "      <td>2</td>\n",
              "      <td>6</td>\n",
              "      <td>4</td>\n",
              "      <td>12</td>\n",
              "      <td>4</td>\n",
              "      <td>40000</td>\n",
              "    </tr>\n",
              "    <tr>\n",
              "      <th>1864</th>\n",
              "      <td>5</td>\n",
              "      <td>63</td>\n",
              "      <td>28</td>\n",
              "      <td>187</td>\n",
              "      <td>30</td>\n",
              "      <td>439741</td>\n",
              "    </tr>\n",
              "    <tr>\n",
              "      <th>1865</th>\n",
              "      <td>3</td>\n",
              "      <td>17</td>\n",
              "      <td>10</td>\n",
              "      <td>99</td>\n",
              "      <td>10</td>\n",
              "      <td>116428</td>\n",
              "    </tr>\n",
              "    <tr>\n",
              "      <th>1868</th>\n",
              "      <td>4</td>\n",
              "      <td>20</td>\n",
              "      <td>27</td>\n",
              "      <td>47</td>\n",
              "      <td>38</td>\n",
              "      <td>270000</td>\n",
              "    </tr>\n",
              "  </tbody>\n",
              "</table>\n",
              "<p>1159 rows × 6 columns</p>\n",
              "</div>"
            ],
            "text/plain": [
              "         total_assignment  total_problem  ...  total_pre_score  total_score\n",
              "user_id                                   ...                              \n",
              "1                       1              2  ...                1        10000\n",
              "4                       1             41  ...               44       370000\n",
              "5                       4              5  ...                3        30000\n",
              "6                       4             88  ...               89       850000\n",
              "7                       1              2  ...                0         9209\n",
              "...                   ...            ...  ...              ...          ...\n",
              "1860                   10             43  ...               29       329665\n",
              "1862                    2              6  ...                4        40000\n",
              "1864                    5             63  ...               30       439741\n",
              "1865                    3             17  ...               10       116428\n",
              "1868                    4             20  ...               38       270000\n",
              "\n",
              "[1159 rows x 6 columns]"
            ]
          },
          "metadata": {
            "tags": []
          },
          "execution_count": 112
        }
      ]
    },
    {
      "cell_type": "markdown",
      "metadata": {
        "id": "XGZH3DD_qQau"
      },
      "source": [
        "**Thêm các feature cần thiết vào bảng FINAL_DATA**"
      ]
    },
    {
      "cell_type": "code",
      "metadata": {
        "id": "U7cIIysUFkWW"
      },
      "source": [
        "# Để dự đoán được điểm cuối kỳ của từng user_ID, ta sẽ xét xem số lần nộp bài đúng của từng user_ID\n",
        "# Có rất nhiều yếu tố ảnh hưởng đến điểm CK, nhưng trong trường hợp này, ta xét user_ID nào có nhiều\n",
        "# lần nộp bài nhất thì điểm sẽ tỉ lể thuận với số lần đó\n",
        "SCORE = score_train.drop(labels='GK',axis =1)\n",
        "SCORE = SCORE.drop(labels='TBTL',axis =1)\n",
        "SCORE = SCORE.drop(labels='QT',axis =1)\n",
        "SCORE = SCORE.drop(labels='TBM',axis =1)\n",
        "SCORE = SCORE.drop(labels='TH',axis =1)\n",
        "temp1 = pd.to_numeric(SCORE['CK'],errors = 'coerce')\n",
        "SCORE = SCORE.drop(labels='CK',axis =1)\n",
        "SCORE['CK'] = temp1\n",
        "CK = SCORE\n",
        "CK = CK.rename(columns={'id':'user_id'})\n",
        "CK = CK.set_index('user_id')\n",
        "\n",
        "TRAIN_DATA = pd.concat([DATAWECODE,CK],axis =1).reset_index().dropna()"
      ],
      "execution_count": null,
      "outputs": []
    },
    {
      "cell_type": "code",
      "metadata": {
        "colab": {
          "base_uri": "https://localhost:8080/"
        },
        "id": "_Jx1Pr9WQHXp",
        "outputId": "7dfec955-1eb4-4d10-a63b-b462be1077ca"
      },
      "source": [
        "TRAIN_DATA.info()"
      ],
      "execution_count": null,
      "outputs": [
        {
          "output_type": "stream",
          "text": [
            "<class 'pandas.core.frame.DataFrame'>\n",
            "Int64Index: 806 entries, 10 to 1278\n",
            "Data columns (total 8 columns):\n",
            " #   Column            Non-Null Count  Dtype  \n",
            "---  ------            --------------  -----  \n",
            " 0   user_id           806 non-null    int64  \n",
            " 1   total_assignment  806 non-null    float64\n",
            " 2   total_problem     806 non-null    float64\n",
            " 3   total_completed   806 non-null    float64\n",
            " 4   total_submit      806 non-null    float64\n",
            " 5   total_pre_score   806 non-null    float64\n",
            " 6   total_score       806 non-null    float64\n",
            " 7   CK                806 non-null    float64\n",
            "dtypes: float64(7), int64(1)\n",
            "memory usage: 56.7 KB\n"
          ],
          "name": "stdout"
        }
      ]
    },
    {
      "cell_type": "code",
      "metadata": {
        "colab": {
          "base_uri": "https://localhost:8080/",
          "height": 317
        },
        "id": "XoFyEhmO8Jv-",
        "outputId": "d28ef113-1a27-4761-d62d-1239796c410b"
      },
      "source": [
        "TRAIN_DATA.describe()"
      ],
      "execution_count": null,
      "outputs": [
        {
          "output_type": "execute_result",
          "data": {
            "text/html": [
              "<div>\n",
              "<style scoped>\n",
              "    .dataframe tbody tr th:only-of-type {\n",
              "        vertical-align: middle;\n",
              "    }\n",
              "\n",
              "    .dataframe tbody tr th {\n",
              "        vertical-align: top;\n",
              "    }\n",
              "\n",
              "    .dataframe thead th {\n",
              "        text-align: right;\n",
              "    }\n",
              "</style>\n",
              "<table border=\"1\" class=\"dataframe\">\n",
              "  <thead>\n",
              "    <tr style=\"text-align: right;\">\n",
              "      <th></th>\n",
              "      <th>user_id</th>\n",
              "      <th>total_assignment</th>\n",
              "      <th>total_problem</th>\n",
              "      <th>total_completed</th>\n",
              "      <th>total_submit</th>\n",
              "      <th>total_pre_score</th>\n",
              "      <th>total_score</th>\n",
              "      <th>CK</th>\n",
              "    </tr>\n",
              "  </thead>\n",
              "  <tbody>\n",
              "    <tr>\n",
              "      <th>count</th>\n",
              "      <td>806.000000</td>\n",
              "      <td>806.000000</td>\n",
              "      <td>806.000000</td>\n",
              "      <td>806.000000</td>\n",
              "      <td>806.000000</td>\n",
              "      <td>806.000000</td>\n",
              "      <td>8.060000e+02</td>\n",
              "      <td>806.000000</td>\n",
              "    </tr>\n",
              "    <tr>\n",
              "      <th>mean</th>\n",
              "      <td>887.772953</td>\n",
              "      <td>11.312655</td>\n",
              "      <td>89.194789</td>\n",
              "      <td>86.682382</td>\n",
              "      <td>238.959057</td>\n",
              "      <td>90.797767</td>\n",
              "      <td>8.934458e+05</td>\n",
              "      <td>6.172457</td>\n",
              "    </tr>\n",
              "    <tr>\n",
              "      <th>std</th>\n",
              "      <td>506.772049</td>\n",
              "      <td>6.659902</td>\n",
              "      <td>48.871976</td>\n",
              "      <td>52.877130</td>\n",
              "      <td>163.182106</td>\n",
              "      <td>56.104517</td>\n",
              "      <td>5.392315e+05</td>\n",
              "      <td>2.243702</td>\n",
              "    </tr>\n",
              "    <tr>\n",
              "      <th>min</th>\n",
              "      <td>24.000000</td>\n",
              "      <td>1.000000</td>\n",
              "      <td>1.000000</td>\n",
              "      <td>0.000000</td>\n",
              "      <td>1.000000</td>\n",
              "      <td>0.000000</td>\n",
              "      <td>0.000000e+00</td>\n",
              "      <td>0.000000</td>\n",
              "    </tr>\n",
              "    <tr>\n",
              "      <th>25%</th>\n",
              "      <td>453.250000</td>\n",
              "      <td>9.000000</td>\n",
              "      <td>57.000000</td>\n",
              "      <td>50.000000</td>\n",
              "      <td>120.000000</td>\n",
              "      <td>52.000000</td>\n",
              "      <td>5.215140e+05</td>\n",
              "      <td>4.500000</td>\n",
              "    </tr>\n",
              "    <tr>\n",
              "      <th>50%</th>\n",
              "      <td>866.500000</td>\n",
              "      <td>11.000000</td>\n",
              "      <td>86.000000</td>\n",
              "      <td>83.000000</td>\n",
              "      <td>210.000000</td>\n",
              "      <td>85.000000</td>\n",
              "      <td>8.409440e+05</td>\n",
              "      <td>6.500000</td>\n",
              "    </tr>\n",
              "    <tr>\n",
              "      <th>75%</th>\n",
              "      <td>1357.500000</td>\n",
              "      <td>14.000000</td>\n",
              "      <td>104.750000</td>\n",
              "      <td>104.750000</td>\n",
              "      <td>320.750000</td>\n",
              "      <td>111.000000</td>\n",
              "      <td>1.075666e+06</td>\n",
              "      <td>8.000000</td>\n",
              "    </tr>\n",
              "    <tr>\n",
              "      <th>max</th>\n",
              "      <td>1865.000000</td>\n",
              "      <td>36.000000</td>\n",
              "      <td>212.000000</td>\n",
              "      <td>314.000000</td>\n",
              "      <td>1359.000000</td>\n",
              "      <td>331.000000</td>\n",
              "      <td>3.168763e+06</td>\n",
              "      <td>10.000000</td>\n",
              "    </tr>\n",
              "  </tbody>\n",
              "</table>\n",
              "</div>"
            ],
            "text/plain": [
              "           user_id  total_assignment  ...   total_score          CK\n",
              "count   806.000000        806.000000  ...  8.060000e+02  806.000000\n",
              "mean    887.772953         11.312655  ...  8.934458e+05    6.172457\n",
              "std     506.772049          6.659902  ...  5.392315e+05    2.243702\n",
              "min      24.000000          1.000000  ...  0.000000e+00    0.000000\n",
              "25%     453.250000          9.000000  ...  5.215140e+05    4.500000\n",
              "50%     866.500000         11.000000  ...  8.409440e+05    6.500000\n",
              "75%    1357.500000         14.000000  ...  1.075666e+06    8.000000\n",
              "max    1865.000000         36.000000  ...  3.168763e+06   10.000000\n",
              "\n",
              "[8 rows x 8 columns]"
            ]
          },
          "metadata": {
            "tags": []
          },
          "execution_count": 115
        }
      ]
    },
    {
      "cell_type": "markdown",
      "metadata": {
        "id": "WH-RT3ed82r4"
      },
      "source": [
        "# TRỰC QUAN HOÁ DỮ LIỆU"
      ]
    },
    {
      "cell_type": "code",
      "metadata": {
        "id": "HJWoBswF9H45",
        "colab": {
          "base_uri": "https://localhost:8080/",
          "height": 247
        },
        "outputId": "ccf81c60-69ca-4710-fa8f-e96b92c40abf"
      },
      "source": [
        "#Biểu đồ thể hiện sự liên quan giữa các feature với điểm CK\n",
        "fig, (ax1,ax2,ax3) = plt.subplots(1,3, figsize=(15,4), sharey = True, dpi = 120)\n",
        "\n",
        "ax1.scatter(TRAIN_DATA['total_completed'], TRAIN_DATA['CK'], 5, color='r')\n",
        "ax2.scatter(TRAIN_DATA['total_pre_score'], TRAIN_DATA['CK'],5, color ='b')\n",
        "ax3.scatter(TRAIN_DATA['total_score'], TRAIN_DATA['CK'],5, color='g')\n",
        "\n",
        "ax1.set(title='Total_completed vs CK', xlabel = 'total_completed', ylabel = 'CK')\n",
        "ax2.set(title='Total_pre_score vs CK', xlabel = 'total_pre_score')\n",
        "ax3.set(title='Total_score vs CK', xlabel = 'total_score')\n",
        "plt.tight_layout()\n",
        "plt.show()"
      ],
      "execution_count": null,
      "outputs": [
        {
          "output_type": "display_data",
          "data": {
            "image/png": "[encoded data removed]",
            "text/plain": [
              "<Figure size 1800x480 with 3 Axes>"
            ]
          },
          "metadata": {
            "tags": [],
            "needs_background": "light"
          }
        }
      ]
    },
    {
      "cell_type": "markdown",
      "metadata": {
        "id": "wXdafR1j3ttc"
      },
      "source": [
        "# TRAIN MODEL VÀ DỰ ĐOÁN ĐIỂM"
      ]
    },
    {
      "cell_type": "markdown",
      "metadata": {
        "id": "h737WJx54PIF"
      },
      "source": [
        "**Xử lý data**"
      ]
    },
    {
      "cell_type": "code",
      "metadata": {
        "id": "LOdRnTng32Fo"
      },
      "source": [
        "X = TRAIN_DATA[['total_assignment',\t\n",
        "                'total_problem',\t\n",
        "                'total_completed',\t\n",
        "                'total_submit',\t\n",
        "                'total_pre_score',\t\n",
        "                'total_score']]\n",
        "Y = TRAIN_DATA['CK']\n",
        "X_train, X_test, y_train, y_test = train_test_split(X,Y, test_size=0.2, random_state=42)"
      ],
      "execution_count": null,
      "outputs": []
    },
    {
      "cell_type": "markdown",
      "metadata": {
        "id": "-Iubp-xYFyKo"
      },
      "source": [
        "Theo nhận xét của các bạn và thầy, có thể bài này sẽ được thực hiện trên 2 dạng bài toán:\n",
        "\n",
        "\n",
        "*   Linear Regression\n",
        "*   Support Vector Machine\n",
        "\n",
        "Tiến hành train model và tính toán trên cả 2 dạng bài toán\n",
        "\n"
      ]
    },
    {
      "cell_type": "markdown",
      "metadata": {
        "id": "Wrn2W2Jw53J7"
      },
      "source": [
        "**Support Vector Machine**\n"
      ]
    },
    {
      "cell_type": "code",
      "metadata": {
        "colab": {
          "base_uri": "https://localhost:8080/"
        },
        "id": "Lvh43G0o52vm",
        "outputId": "f398cb81-b60f-419c-c9f7-96a1b3f39d31"
      },
      "source": [
        "SVMMODEL = svm.SVR().fit(X_train, y_train)\n",
        "#The average time\n",
        "print(\"Average of y_test:\", np.average(y_test))\n",
        "\n",
        "# Mean Square Error of Data Test \n",
        "y_pred_svm = SVMMODEL.predict(X_test)\n",
        "mse = sklearn.metrics.mean_squared_error(y_test, y_pred_svm)\n",
        "print(\"MSE of Data Test:\", mse)\n",
        "\n",
        "error = math.sqrt(mse) / np.average(y_test)\n",
        "print(\"Error(%):\", error*100)"
      ],
      "execution_count": null,
      "outputs": [
        {
          "output_type": "stream",
          "text": [
            "Average of y_test: 6.2592592592592595\n",
            "MSE of Data Test: 4.447715119229711\n",
            "Error(%): 33.69345453514848\n"
          ],
          "name": "stdout"
        }
      ]
    },
    {
      "cell_type": "markdown",
      "metadata": {
        "id": "6rMGUuT0649H"
      },
      "source": [
        "**Linear Regrssion**"
      ]
    },
    {
      "cell_type": "code",
      "metadata": {
        "colab": {
          "base_uri": "https://localhost:8080/"
        },
        "id": "yIQ7ZtZY6u3C",
        "outputId": "f1f93acb-d151-4e85-90ea-c98a8016251f"
      },
      "source": [
        "LNMODEL = LinearRegression().fit(X_train, y_train)\n",
        "LNMODEL.intercept_ , CK_lr.coef_"
      ],
      "execution_count": null,
      "outputs": [
        {
          "output_type": "execute_result",
          "data": {
            "text/plain": [
              "(5.520555897055645,\n",
              " array([-1.24412445e-01, -9.56053542e-03, -1.00719242e-01,  2.44710788e-03,\n",
              "         4.52405131e-03,  1.18776868e-05]))"
            ]
          },
          "metadata": {
            "tags": []
          },
          "execution_count": 123
        }
      ]
    },
    {
      "cell_type": "code",
      "metadata": {
        "colab": {
          "base_uri": "https://localhost:8080/"
        },
        "id": "_pIhMB1w6ypY",
        "outputId": "d975ae10-43cc-400d-b380-ace8151b976f"
      },
      "source": [
        "y_pred = LNMODEL.predict(X_train)\n",
        "mse = sklearn.metrics.mean_squared_error(y_train, y_pred)\n",
        "print(\"MSE of Data Train:\", mse)"
      ],
      "execution_count": null,
      "outputs": [
        {
          "output_type": "stream",
          "text": [
            "MSE of Data Train: 4.058750803393181\n"
          ],
          "name": "stdout"
        }
      ]
    },
    {
      "cell_type": "code",
      "metadata": {
        "colab": {
          "base_uri": "https://localhost:8080/"
        },
        "id": "FAT2AqYZ63Ua",
        "outputId": "4e1a4d9b-9fbb-4648-a709-639d70fa4202"
      },
      "source": [
        "# The everage time\n",
        "print(\"Average of y_test:\", np.average(y_test))\n",
        "\n",
        "# Mean Square Error of Data Test \n",
        "y_pred = LNMODEL.predict(X_test)\n",
        "mse = sklearn.metrics.mean_squared_error(y_test, y_pred)\n",
        "print(\"MSE of Data Test:\", mse)\n",
        "\n",
        "error = math.sqrt(mse) / np.average(y_test)\n",
        "print(\"Error(%):\", error*100)"
      ],
      "execution_count": null,
      "outputs": [
        {
          "output_type": "stream",
          "text": [
            "Average of y_test: 6.2592592592592595\n",
            "MSE of Data Test: 3.8293461583613726\n",
            "Error(%): 31.263627885649054\n"
          ],
          "name": "stdout"
        }
      ]
    },
    {
      "cell_type": "markdown",
      "metadata": {
        "id": "wqWIL4bNGVRf"
      },
      "source": [
        "Qua thông số Mean square error của cả 2 quá trình train model:\n",
        "\n",
        "\n",
        "*   Linear Regression: 4.44\n",
        "*   SVM: 3.83\n",
        "\n",
        "Nhận thấy trong thang điểm 10, với mức MSE như vậy chưa được tốt cho MODEL. Nhóm sẽ tìm hiểu, cải thiện lại MODEL và update bài lên tiếp ạ!\n",
        "\n"
      ]
    },
    {
      "cell_type": "markdown",
      "metadata": {
        "id": "sr-O49B7-WOI"
      },
      "source": [
        "**LINK THAM KHẢO**\n",
        "\n",
        "\n",
        "*   https://pandas.pydata.org/pandas-docs/stable/reference/api/pandas.DataFrame.dropna.html\n",
        "*   https://allaravel.com/blog/ve-do-thi-trong-python-voi-thu-vien-matplotlib\n",
        "*   https://vimentor.com/vi/lesson/tien-xu-ly-du-lieu-trong-linh-vuc-hoc-may-phan-1\n",
        "*   https://scikit-learn.org/stable/modules/svm.html\n",
        "*   https://scikit-learn.org/stable/modules/generated/sklearn.linear_model.LinearRegression.html\n",
        "\n"
      ]
    }
  ]
}