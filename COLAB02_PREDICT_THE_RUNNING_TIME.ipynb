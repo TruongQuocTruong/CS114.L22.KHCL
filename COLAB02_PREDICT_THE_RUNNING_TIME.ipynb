{
  "nbformat": 4,
  "nbformat_minor": 0,
  "metadata": {
    "colab": {
      "name": "COLAB02_PREDICT THE RUNNING TIME.ipynb",
      "provenance": [],
      "authorship_tag": "ABX9TyN4uEyk4guhVe+RD8EGaDvU",
      "include_colab_link": true
    },
    "kernelspec": {
      "name": "python3",
      "display_name": "Python 3"
    },
    "language_info": {
      "name": "python"
    }
  },
  "cells": [
    {
      "cell_type": "markdown",
      "metadata": {
        "id": "view-in-github",
        "colab_type": "text"
      },
      "source": [
        "<a href=\"https://colab.research.google.com/github/TruongQuocTruong/CS114.L22.KHCL/blob/main/COLAB02_PREDICT_THE_RUNNING_TIME.ipynb\" target=\"_parent\"><img src=\"https://colab.research.google.com/assets/colab-badge.svg\" alt=\"Open In Colab\"/></a>"
      ]
    },
    {
      "cell_type": "markdown",
      "metadata": {
        "id": "j_S-TXIxLx1P"
      },
      "source": [
        "**BÀI TẬP: DỰ ĐOÁN THỜI GIAN CHẠY CỦA CHƯƠNG TRÌNH**"
      ]
    },
    {
      "cell_type": "code",
      "metadata": {
        "id": "m0aHMKD3wFoS"
      },
      "source": [
        "# Import các thư viện cần thiết\n",
        "import pandas as pd\n",
        "import numpy as np\n",
        "from time import time\n",
        "import matplotlib.pyplot as plt"
      ],
      "execution_count": 1,
      "outputs": []
    },
    {
      "cell_type": "code",
      "metadata": {
        "id": "bxntGkkJwYTR"
      },
      "source": [
        "# Lấy và xử lý dữ liệu\n",
        "data_train = pd.read_csv(\"https://cs.uit.edu.vn/data2.txt\")\n",
        "data_test1 = pd.read_csv(\"https://cs.uit.edu.vn/data3.txt\")\n",
        "data_test2 = pd.read_csv(\"https://cs.uit.edu.vn/data4.txt\")\n",
        "\n",
        "data_train.columns = ['col1','col2']\n",
        "data_test1.columns = ['col1','col2']\n",
        "data_test2.columns = ['col1','col2']\n",
        "\n",
        "#Nguồn tham khảo: https://ichi.pro/vi/huong-dan-nhanh-ve-phan-tich-du-lieu-kham-pha-bang-pandas-164495076968510"
      ],
      "execution_count": 2,
      "outputs": []
    },
    {
      "cell_type": "code",
      "metadata": {
        "colab": {
          "base_uri": "https://localhost:8080/",
          "height": 853
        },
        "id": "k0GrHQEawKAp",
        "outputId": "8821568c-c4f2-4ce0-9295-4d5a86a8fd4b"
      },
      "source": [
        "# Mô phỏng dữ liệu, trực quan hoá bằng biểu đồ\n",
        "from matplotlib import style\n",
        "\n",
        "\n",
        "plt.scatter(data_train['col1'], data_train['col2'], color = 'b')\n",
        "plt.legend()\n",
        "plt.xlabel= 'x axis'\n",
        "plt.ylabel= 'y axis'\n",
        "plt.title='Data Regression'\n",
        "plt.show()\n",
        "\n",
        "plt.scatter(data_test1['col1'], data_test1['col2'], color = 'b')\n",
        "plt.legend()\n",
        "plt.xlabel= 'x axis'\n",
        "plt.ylabel= 'y axis'\n",
        "plt.title='Data Regression'\n",
        "plt.show()\n",
        "\n",
        "plt.scatter(data_test2['col1'], data_test2['col2'], color = 'b')\n",
        "plt.legend()\n",
        "plt.xlabel= 'x axis'\n",
        "plt.ylabel= 'y axis'\n",
        "plt.title='Data Regression'\n",
        "plt.show()\n",
        "\n",
        "# Nguồn tham khảo: https://ichi.pro/vi/huong-dan-python-matplotlib-tim-hieu-thu-vien-matplotlib-voi-cac-vi-du-23988611301358"
      ],
      "execution_count": 5,
      "outputs": [
        {
          "output_type": "stream",
          "text": [
            "No handles with labels found to put in legend.\n"
          ],
          "name": "stderr"
        },
        {
          "output_type": "display_data",
          "data": {
            "image/png": "[encoded data removed]",
            "text/plain": [
              "<Figure size 432x288 with 1 Axes>"
            ]
          },
          "metadata": {
            "tags": [],
            "needs_background": "light"
          }
        },
        {
          "output_type": "stream",
          "text": [
            "No handles with labels found to put in legend.\n"
          ],
          "name": "stderr"
        },
        {
          "output_type": "display_data",
          "data": {
            "image/png": "[encoded data removed]",
            "text/plain": [
              "<Figure size 432x288 with 1 Axes>"
            ]
          },
          "metadata": {
            "tags": [],
            "needs_background": "light"
          }
        },
        {
          "output_type": "stream",
          "text": [
            "No handles with labels found to put in legend.\n"
          ],
          "name": "stderr"
        },
        {
          "output_type": "display_data",
          "data": {
            "image/png": "[encoded data removed]",
            "text/plain": [
              "<Figure size 432x288 with 1 Axes>"
            ]
          },
          "metadata": {
            "tags": [],
            "needs_background": "light"
          }
        }
      ]
    },
    {
      "cell_type": "code",
      "metadata": {
        "id": "Od3wzRdn0RUv"
      },
      "source": [
        "# Xử lý dữ liệu\n",
        "x_train = np.array(data_train['col1']).reshape(-1,1)\n",
        "y_train = np.array(data_train['col2']).reshape(-1,1)\n",
        "x_test1 = np.array(data_test1['col1']).reshape(-1,1)\n",
        "y_test1 = np.array(data_test1['col2']).reshape(-1,1)"
      ],
      "execution_count": 13,
      "outputs": []
    },
    {
      "cell_type": "code",
      "metadata": {
        "colab": {
          "base_uri": "https://localhost:8080/"
        },
        "id": "G0bv_w8txHF-",
        "outputId": "1366b144-b0e2-491f-d938-5313b66bddc0"
      },
      "source": [
        "# Tạo model dự đoán\n",
        "# Import các thư viện từ sklearn\n",
        "\n",
        "from sklearn.metrics import mean_squared_error, r2_score\n",
        "from sklearn.linear_model import LinearRegression \n",
        "from sklearn import datasets, linear_model\n",
        "\n",
        "regr = linear_model.LinearRegression(normalize = True)\n",
        "regr.fit(x_train, y_train)\n",
        "y_pred = regr.predict(x_test1)\n",
        "print('Coefficient: ', regr.coef_)\n",
        "print('Mean squared error: %.2f'\n",
        "      % mean_squared_error(y_test1, y_pred))\n",
        "print('Coefficient of determination: %.2f'\n",
        "      % r2_score(y_test1, y_pred))"
      ],
      "execution_count": 18,
      "outputs": [
        {
          "output_type": "stream",
          "text": [
            "Coefficient:  [[8.45569428e-08]]\n",
            "Mean squared error: 0.02\n",
            "Coefficient of determination: 0.93\n"
          ],
          "name": "stdout"
        }
      ]
    },
    {
      "cell_type": "code",
      "metadata": {
        "colab": {
          "base_uri": "https://localhost:8080/"
        },
        "id": "vBJ6BreaHeMe",
        "outputId": "8d508863-42e8-4862-c6c2-99c7d757b6b2"
      },
      "source": [
        "def increase_dimension(x_train):\n",
        "  x = x_train\n",
        "  x = np.hstack((x, np.log2(x_train) ) )\n",
        "  x = np.hstack((x, x_train* np.log2(x_train) ) )\n",
        "  x = np.hstack((x, x_train*x_train))\n",
        "  return x\n",
        "\n",
        "x_train = increase_dimension(x_train)\n",
        "print(x_train)\n",
        "\n",
        "#Nguồn: Hướng dẫn của thầy Nguyễn Trường An"
      ],
      "execution_count": 21,
      "outputs": [
        {
          "output_type": "stream",
          "text": [
            "[[1.95436700e+06 2.08982700e+01 4.08428892e+07 3.81955037e+12]\n",
            " [3.73418500e+06 2.18323620e+01 8.15260786e+07 1.39441376e+13]\n",
            " [5.83930100e+06 2.24773642e+01 1.31252096e+08 3.40974362e+13]\n",
            " ...\n",
            " [9.83736400e+06 2.32298404e+01 2.28520395e+08 9.67737305e+13]\n",
            " [9.46659300e+06 2.31744139e+01 2.19382744e+08 8.96163830e+13]\n",
            " [4.08080100e+06 2.19604209e+01 8.96161077e+07 1.66529368e+13]]\n"
          ],
          "name": "stdout"
        }
      ]
    },
    {
      "cell_type": "code",
      "metadata": {
        "colab": {
          "base_uri": "https://localhost:8080/"
        },
        "id": "nE5wtQYgJ9VI",
        "outputId": "0c8f2e71-b965-4afe-934e-989bec443bdc"
      },
      "source": [
        "regr.fit(x_train, y_train)\n",
        "a = regr.predict(x_train)\n",
        "print(a - y_train)\n",
        "print(np.average((a-y_train)**2))"
      ],
      "execution_count": 29,
      "outputs": [
        {
          "output_type": "stream",
          "text": [
            "[[-0.00419498]\n",
            " [-0.00335483]\n",
            " [ 0.01364223]\n",
            " ...\n",
            " [ 0.02192197]\n",
            " [ 0.0141399 ]\n",
            " [ 0.00986149]]\n",
            "0.00012189395532274994\n"
          ],
          "name": "stdout"
        }
      ]
    },
    {
      "cell_type": "code",
      "metadata": {
        "id": "tyeR6lsPLuOZ"
      },
      "source": [
        ""
      ],
      "execution_count": null,
      "outputs": []
    }
  ]
}